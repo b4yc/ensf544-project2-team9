{
 "cells": [
  {
   "cell_type": "code",
   "execution_count": 54,
   "metadata": {},
   "outputs": [],
   "source": [
    "import numpy as np\n",
    "import pandas as pd\n",
    "\n",
    "import matplotlib.pyplot as plt\n",
    "%matplotlib inline"
   ]
  },
  {
   "cell_type": "code",
   "execution_count": 55,
   "metadata": {},
   "outputs": [
    {
     "data": {
      "text/html": [
       "<div>\n",
       "<style scoped>\n",
       "    .dataframe tbody tr th:only-of-type {\n",
       "        vertical-align: middle;\n",
       "    }\n",
       "\n",
       "    .dataframe tbody tr th {\n",
       "        vertical-align: top;\n",
       "    }\n",
       "\n",
       "    .dataframe thead th {\n",
       "        text-align: right;\n",
       "    }\n",
       "</style>\n",
       "<table border=\"1\" class=\"dataframe\">\n",
       "  <thead>\n",
       "    <tr style=\"text-align: right;\">\n",
       "      <th></th>\n",
       "      <th>Country</th>\n",
       "      <th>Economy</th>\n",
       "      <th>Trust</th>\n",
       "      <th>Health</th>\n",
       "      <th>Generosity</th>\n",
       "      <th>Family</th>\n",
       "      <th>Score</th>\n",
       "      <th>Year</th>\n",
       "    </tr>\n",
       "  </thead>\n",
       "  <tbody>\n",
       "    <tr>\n",
       "      <th>0</th>\n",
       "      <td>Switzerland</td>\n",
       "      <td>1.39651</td>\n",
       "      <td>0.41978</td>\n",
       "      <td>0.94143</td>\n",
       "      <td>0.29678</td>\n",
       "      <td>1.34951</td>\n",
       "      <td>7.587</td>\n",
       "      <td>2015</td>\n",
       "    </tr>\n",
       "    <tr>\n",
       "      <th>1</th>\n",
       "      <td>Iceland</td>\n",
       "      <td>1.30232</td>\n",
       "      <td>0.14145</td>\n",
       "      <td>0.94784</td>\n",
       "      <td>0.43630</td>\n",
       "      <td>1.40223</td>\n",
       "      <td>7.561</td>\n",
       "      <td>2015</td>\n",
       "    </tr>\n",
       "    <tr>\n",
       "      <th>2</th>\n",
       "      <td>Denmark</td>\n",
       "      <td>1.32548</td>\n",
       "      <td>0.48357</td>\n",
       "      <td>0.87464</td>\n",
       "      <td>0.34139</td>\n",
       "      <td>1.36058</td>\n",
       "      <td>7.527</td>\n",
       "      <td>2015</td>\n",
       "    </tr>\n",
       "    <tr>\n",
       "      <th>3</th>\n",
       "      <td>Norway</td>\n",
       "      <td>1.45900</td>\n",
       "      <td>0.36503</td>\n",
       "      <td>0.88521</td>\n",
       "      <td>0.34699</td>\n",
       "      <td>1.33095</td>\n",
       "      <td>7.522</td>\n",
       "      <td>2015</td>\n",
       "    </tr>\n",
       "    <tr>\n",
       "      <th>4</th>\n",
       "      <td>Canada</td>\n",
       "      <td>1.32629</td>\n",
       "      <td>0.32957</td>\n",
       "      <td>0.90563</td>\n",
       "      <td>0.45811</td>\n",
       "      <td>1.32261</td>\n",
       "      <td>7.427</td>\n",
       "      <td>2015</td>\n",
       "    </tr>\n",
       "    <tr>\n",
       "      <th>...</th>\n",
       "      <td>...</td>\n",
       "      <td>...</td>\n",
       "      <td>...</td>\n",
       "      <td>...</td>\n",
       "      <td>...</td>\n",
       "      <td>...</td>\n",
       "      <td>...</td>\n",
       "      <td>...</td>\n",
       "    </tr>\n",
       "    <tr>\n",
       "      <th>1079</th>\n",
       "      <td>Lesotho</td>\n",
       "      <td>0.45100</td>\n",
       "      <td>0.91500</td>\n",
       "      <td>0.45100</td>\n",
       "      <td>-0.13100</td>\n",
       "      <td>0.78700</td>\n",
       "      <td>3.512</td>\n",
       "      <td>2021</td>\n",
       "    </tr>\n",
       "    <tr>\n",
       "      <th>1080</th>\n",
       "      <td>Botswana</td>\n",
       "      <td>1.09900</td>\n",
       "      <td>0.80100</td>\n",
       "      <td>1.09900</td>\n",
       "      <td>-0.24600</td>\n",
       "      <td>0.78400</td>\n",
       "      <td>3.467</td>\n",
       "      <td>2021</td>\n",
       "    </tr>\n",
       "    <tr>\n",
       "      <th>1081</th>\n",
       "      <td>Rwanda</td>\n",
       "      <td>0.36400</td>\n",
       "      <td>0.16700</td>\n",
       "      <td>0.36400</td>\n",
       "      <td>0.06100</td>\n",
       "      <td>0.55200</td>\n",
       "      <td>3.415</td>\n",
       "      <td>2021</td>\n",
       "    </tr>\n",
       "    <tr>\n",
       "      <th>1082</th>\n",
       "      <td>Zimbabwe</td>\n",
       "      <td>0.45700</td>\n",
       "      <td>0.82100</td>\n",
       "      <td>0.45700</td>\n",
       "      <td>-0.04700</td>\n",
       "      <td>0.75000</td>\n",
       "      <td>3.145</td>\n",
       "      <td>2021</td>\n",
       "    </tr>\n",
       "    <tr>\n",
       "      <th>1083</th>\n",
       "      <td>Afghanistan</td>\n",
       "      <td>0.37000</td>\n",
       "      <td>0.92400</td>\n",
       "      <td>0.37000</td>\n",
       "      <td>-0.10200</td>\n",
       "      <td>0.46300</td>\n",
       "      <td>2.523</td>\n",
       "      <td>2021</td>\n",
       "    </tr>\n",
       "  </tbody>\n",
       "</table>\n",
       "<p>1084 rows × 8 columns</p>\n",
       "</div>"
      ],
      "text/plain": [
       "          Country  Economy    Trust   Health  Generosity   Family  Score  Year\n",
       "0     Switzerland  1.39651  0.41978  0.94143     0.29678  1.34951  7.587  2015\n",
       "1         Iceland  1.30232  0.14145  0.94784     0.43630  1.40223  7.561  2015\n",
       "2         Denmark  1.32548  0.48357  0.87464     0.34139  1.36058  7.527  2015\n",
       "3          Norway  1.45900  0.36503  0.88521     0.34699  1.33095  7.522  2015\n",
       "4          Canada  1.32629  0.32957  0.90563     0.45811  1.32261  7.427  2015\n",
       "...           ...      ...      ...      ...         ...      ...    ...   ...\n",
       "1079      Lesotho  0.45100  0.91500  0.45100    -0.13100  0.78700  3.512  2021\n",
       "1080     Botswana  1.09900  0.80100  1.09900    -0.24600  0.78400  3.467  2021\n",
       "1081       Rwanda  0.36400  0.16700  0.36400     0.06100  0.55200  3.415  2021\n",
       "1082     Zimbabwe  0.45700  0.82100  0.45700    -0.04700  0.75000  3.145  2021\n",
       "1083  Afghanistan  0.37000  0.92400  0.37000    -0.10200  0.46300  2.523  2021\n",
       "\n",
       "[1084 rows x 8 columns]"
      ]
     },
     "metadata": {},
     "output_type": "display_data"
    }
   ],
   "source": [
    "# make consistent column names across files\n",
    "country_title = ['Country', 'Country or region', \"Country name\"]\n",
    "economy_title = [\"Economy (GDP per Capita)\", \"Economy..GDP.per.Capita.\", \"GDP per capita\", \"Explained by: Log GDP per capita\"]\n",
    "trust_title = [\"Trust (Government Corruption)\", \"Trust..Government.Corruption.\", \"Perceptions of corruption\"]\n",
    "health_title = [\"Health (Life Expectancy)\", \"Health..Life.Expectancy.\", \"Explained by: Log GDP per capita\", \"Healthy life expectancy\"]\n",
    "generosity_title = [\"Generosity\"]\n",
    "family_title = [\"Family\", \"Social support\"]\n",
    "score_title = [\"Happiness Score\", \"Happiness.Score\", \"Score\", \"Ladder score\"]\n",
    "\n",
    "# process each year\n",
    "data_all_years_list = []\n",
    "for year in range(2015, 2022):\n",
    "    file = pd.read_csv(f'data/{year}.csv')\n",
    "    if year == 2021 or year == 2020:\n",
    "        if file.columns[8] == health_title[3]:\n",
    "            file = file.drop(file.columns[8], axis=1)\n",
    "    df = file.loc[:, file.columns.isin(list(country_title))].copy()\n",
    "    df = df.rename(columns={'Country or region': 'Country', \"Country name\": 'Country'})\n",
    "    df[\"Economy\"] = file.loc[:, file.columns.isin(list(economy_title))].copy()\n",
    "    df[\"Trust\"] = file.loc[:, file.columns.isin(list(trust_title))].copy()\n",
    "    df[\"Health\"] = file.loc[:, file.columns.isin(list(health_title))].copy()\n",
    "    df[\"Generosity\"] = file.loc[:, file.columns.isin(list(generosity_title))].copy()\n",
    "    df[\"Family\"] = file.loc[:, file.columns.isin(list(family_title))].copy()\n",
    "    df[\"Score\"] = file.loc[:, file.columns.isin(list(score_title))].copy()\n",
    "    df[\"Year\"] = year\n",
    "    data_all_years_list.append(df)\n",
    "    # display(file)\n",
    "\n",
    "# concatenate each year and create single dataframe\n",
    "df = pd.concat(data_all_years_list, ignore_index=True)\n",
    "# df = df.replace(to_replace=np.nan, value = -99)\n",
    "\n",
    "features = df[[\"Country\", \"Economy\", \"Trust\", \"Health\", \"Generosity\", \"Family\"]]\n",
    "target = df[\"Score\"]\n",
    "display(df)"
   ]
  },
  {
   "cell_type": "code",
   "execution_count": 56,
   "metadata": {},
   "outputs": [
    {
     "name": "stdout",
     "output_type": "stream",
     "text": [
      "Economy Mean:  0.91778\n",
      "Economy Median:  0.98221\n",
      "Economy Minimum: 0.0 (Congo (Kinshasa), 2015)\n",
      "Economy Maximum: 2.096 (United Arab Emirates, 2018)\n"
     ]
    }
   ],
   "source": [
    "# Economy\n",
    "\n",
    "mean = df[\"Economy\"].mean()\n",
    "median = df[\"Economy\"].median()\n",
    "min = df[\"Economy\"].min()\n",
    "series_min = df.iloc[int(df[\"Economy\"].argmin())]\n",
    "country_min = series_min[\"Country\"]\n",
    "year_min = series_min[\"Year\"]\n",
    "max = df[\"Economy\"].max()\n",
    "series_max = df.iloc[int(df[\"Economy\"].argmax())]\n",
    "country_max = series_max[\"Country\"]\n",
    "year_max = series_max[\"Year\"]\n",
    "\n",
    "print(\"Economy Mean: \", round(mean, 5))\n",
    "print(\"Economy Median: \", round(median, 5))\n",
    "print(\"Economy Minimum: \" + str(round(min, 5)) + \" (\" + country_min + \", \" + str(year_min) + \")\")\n",
    "print(\"Economy Maximum: \" + str(round(max, 5)) + \" (\" + country_max + \", \" + str(year_max) + \")\")"
   ]
  },
  {
   "cell_type": "code",
   "execution_count": 57,
   "metadata": {},
   "outputs": [
    {
     "name": "stdout",
     "output_type": "stream",
     "text": [
      "Trust Mean:  0.29411\n",
      "Trust Median:  0.13696\n",
      "Trust Minimum: 0.0 (Indonesia, 2015)\n",
      "Trust Maximum: 0.939 (Croatia, 2021)\n"
     ]
    }
   ],
   "source": [
    "# Trust\n",
    "\n",
    "mean = df[\"Trust\"].mean()\n",
    "median = df[\"Trust\"].median()\n",
    "min = df[\"Trust\"].min()\n",
    "series_min = df.iloc[int(df[\"Trust\"].argmin())]\n",
    "country_min = series_min[\"Country\"]\n",
    "year_min = series_min[\"Year\"]\n",
    "max = df[\"Trust\"].max()\n",
    "series_max = df.iloc[int(df[\"Trust\"].argmax())]\n",
    "country_max = series_max[\"Country\"]\n",
    "year_max = series_max[\"Year\"]\n",
    "\n",
    "print(\"Trust Mean: \", round(mean, 5))\n",
    "print(\"Trust Median: \", round(median, 5))\n",
    "print(\"Trust Minimum: \" + str(round(min, 5)) + \" (\" + country_min + \", \" + str(year_min) + \")\")\n",
    "print(\"Trust Maximum: \" + str(round(max, 5)) + \" (\" + country_max + \", \" + str(year_max) + \")\")"
   ]
  },
  {
   "cell_type": "code",
   "execution_count": 58,
   "metadata": {},
   "outputs": [
    {
     "name": "stdout",
     "output_type": "stream",
     "text": [
      "Health Mean:  0.69873\n",
      "Health Median:  0.69802\n",
      "Health Minimum: 0.0 (Sierra Leone, 2015)\n",
      "Health Maximum: 1.751 (Luxembourg, 2021)\n"
     ]
    }
   ],
   "source": [
    "# Health\n",
    "\n",
    "mean = df[\"Health\"].mean()\n",
    "median = df[\"Health\"].median()\n",
    "min = df[\"Health\"].min()\n",
    "series_min = df.iloc[int(df[\"Health\"].argmin())]\n",
    "country_min = series_min[\"Country\"]\n",
    "year_min = series_min[\"Year\"]\n",
    "max = df[\"Health\"].max()\n",
    "series_max = df.iloc[int(df[\"Health\"].argmax())]\n",
    "country_max = series_max[\"Country\"]\n",
    "year_max = series_max[\"Year\"]\n",
    "\n",
    "print(\"Health Mean: \", round(mean, 5))\n",
    "print(\"Health Median: \", round(median, 5))\n",
    "print(\"Health Minimum: \" + str(round(min, 5)) + \" (\" + country_min + \", \" + str(year_min) + \")\")\n",
    "print(\"Health Maximum: \" + str(round(max, 5)) + \" (\" + country_max + \", \" + str(year_max) + \")\")"
   ]
  },
  {
   "cell_type": "code",
   "execution_count": 59,
   "metadata": {},
   "outputs": [
    {
     "name": "stdout",
     "output_type": "stream",
     "text": [
      "Generosity Mean:  0.15354\n",
      "Generosity Median:  0.16214\n",
      "Generosity Minimum: -0.30091 (Greece, 2020)\n",
      "Generosity Minimum: 0.83808 (Myanmar, 2017)\n"
     ]
    }
   ],
   "source": [
    "# Generosity\n",
    "\n",
    "mean = df[\"Generosity\"].mean()\n",
    "median = df[\"Generosity\"].median()\n",
    "min = df[\"Generosity\"].min()\n",
    "series_min = df.iloc[int(df[\"Generosity\"].argmin())]\n",
    "country_min = series_min[\"Country\"]\n",
    "year_min = series_min[\"Year\"]\n",
    "max = df[\"Generosity\"].max()\n",
    "series_max = df.iloc[int(df[\"Generosity\"].argmax())]\n",
    "country_max = series_max[\"Country\"]\n",
    "year_max = series_max[\"Year\"]\n",
    "\n",
    "print(\"Generosity Mean: \", round(mean, 5))\n",
    "print(\"Generosity Median: \", round(median, 5))\n",
    "print(\"Generosity Minimum: \" + str(round(min, 5)) + \" (\" + country_min + \", \" + str(year_min) + \")\")\n",
    "print(\"Generosity Minimum: \" + str(round(max, 5)) + \" (\" + country_max + \", \" + str(year_max) + \")\")"
   ]
  },
  {
   "cell_type": "code",
   "execution_count": 60,
   "metadata": {},
   "outputs": [
    {
     "name": "stdout",
     "output_type": "stream",
     "text": [
      "Family Mean:  1.00409\n",
      "Family Median:  0.948\n",
      "Family Minimum: 0.0 (Central African Republic, 2015)\n",
      "Family Maximum: 1.644 (Iceland, 2018)\n"
     ]
    }
   ],
   "source": [
    "# Family\n",
    "\n",
    "mean = df[\"Family\"].mean()\n",
    "median = df[\"Family\"].median()\n",
    "min = df[\"Family\"].min()\n",
    "series_min = df.iloc[int(df[\"Family\"].argmin())]\n",
    "country_min = series_min[\"Country\"]\n",
    "year_min = series_min[\"Year\"]\n",
    "max = df[\"Family\"].max()\n",
    "series_max = df.iloc[int(df[\"Family\"].argmax())]\n",
    "country_max = series_max[\"Country\"]\n",
    "year_max = series_max[\"Year\"]\n",
    "\n",
    "print(\"Family Mean: \", round(mean, 5))\n",
    "print(\"Family Median: \", round(median, 5))\n",
    "print(\"Family Minimum: \" + str(round(min, 5)) + \" (\" + country_min + \", \" + str(year_min) + \")\")\n",
    "print(\"Family Maximum: \" + str(round(max, 5)) + \" (\" + country_max + \", \" + str(year_max) + \")\")"
   ]
  },
  {
   "cell_type": "code",
   "execution_count": 61,
   "metadata": {},
   "outputs": [
    {
     "name": "stdout",
     "output_type": "stream",
     "text": [
      "Score Mean:  5.41346\n",
      "Score Median:  5.38515\n",
      "Score Minimum: 2.523 (Afghanistan, 2021)\n",
      "Score Maximum: 7.842 (Finland, 2021)\n"
     ]
    }
   ],
   "source": [
    "# Score\n",
    "\n",
    "mean = df[\"Score\"].mean()\n",
    "median = df[\"Score\"].median()\n",
    "min = df[\"Score\"].min()\n",
    "series_min = df.iloc[int(df[\"Score\"].argmin())]\n",
    "country_min = series_min[\"Country\"]\n",
    "year_min = series_min[\"Year\"]\n",
    "max = df[\"Score\"].max()\n",
    "series_max = df.iloc[int(df[\"Score\"].argmax())]\n",
    "country_max = series_max[\"Country\"]\n",
    "year_max = series_max[\"Year\"]\n",
    "\n",
    "print(\"Score Mean: \", round(mean, 5))\n",
    "print(\"Score Median: \", round(median, 5))\n",
    "print(\"Score Minimum: \" + str(round(min, 5)) + \" (\" + country_min + \", \" + str(year_min) + \")\")\n",
    "print(\"Score Maximum: \" + str(round(max, 5)) + \" (\" + country_max + \", \" + str(year_max) + \")\")"
   ]
  },
  {
   "cell_type": "code",
   "execution_count": 69,
   "metadata": {},
   "outputs": [
    {
     "data": {
      "image/png": "[encoded data removed]",
      "text/plain": [
       "<Figure size 432x288 with 1 Axes>"
      ]
     },
     "metadata": {
      "needs_background": "light"
     },
     "output_type": "display_data"
    }
   ],
   "source": [
    "years = [2015, 2016, 2017, 2018, 2019, 2020, 2021]\n",
    "economy_avgs = []\n",
    "trust_avgs = []\n",
    "health_avgs = []\n",
    "generosity_avgs = []\n",
    "social_supp_avgs = []\n",
    "score_avgs = []\n",
    "\n",
    "for year in years:\n",
    "    df_year = df[df[\"Year\"] == year]\n",
    "    economy_avgs.append(df_year[\"Economy\"].mean())\n",
    "    trust_avgs.append(df_year[\"Trust\"].mean())\n",
    "    health_avgs.append(df_year[\"Health\"].mean())\n",
    "    generosity_avgs.append(df_year[\"Generosity\"].mean())\n",
    "    social_supp_avgs.append(df_year[\"Family\"].mean())\n",
    "    score_avgs.append(df_year[\"Score\"].mean())\n",
    "\n",
    "plt.plot(years, economy_avgs, label = \"Economy Mean\")\n",
    "plt.plot(years, trust_avgs, label = \"Trust Mean\")\n",
    "plt.plot(years, health_avgs, label = \"Health Mean\")\n",
    "plt.plot(years, generosity_avgs, label = \"Generosity Mean\")\n",
    "plt.plot(years, social_supp_avgs, label = \"Family Mean\")\n",
    "plt.plot(years, score_avgs, label = \"Score Mean\")\n",
    "plt.legend()\n",
    "plt.title(\"Average of Features per Year\")\n",
    "plt.show()"
   ]
  },
  {
   "cell_type": "code",
   "execution_count": null,
   "metadata": {},
   "outputs": [],
   "source": []
  }
 ],
 "metadata": {
  "kernelspec": {
   "display_name": "Python 3.9.12 ('base')",
   "language": "python",
   "name": "python3"
  },
  "language_info": {
   "codemirror_mode": {
    "name": "ipython",
    "version": 3
   },
   "file_extension": ".py",
   "mimetype": "text/x-python",
   "name": "python",
   "nbconvert_exporter": "python",
   "pygments_lexer": "ipython3",
   "version": "3.9.12"
  },
  "orig_nbformat": 4,
  "vscode": {
   "interpreter": {
    "hash": "0bd2920eeba004d5c7d3ce83d5987a2a3c2e4b63027002861dbe1ab2fd1ed095"
   }
  }
 },
 "nbformat": 4,
 "nbformat_minor": 2
}
