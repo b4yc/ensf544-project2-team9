{
 "cells": [
  {
   "cell_type": "code",
   "execution_count": 2,
   "metadata": {},
   "outputs": [],
   "source": [
    "import numpy as np\n",
    "import pandas as pd\n",
    "\n",
    "import matplotlib.pyplot as plt\n",
    "%matplotlib inline"
   ]
  },
  {
   "cell_type": "markdown",
   "metadata": {},
   "source": [
    "### Data Preprocessing"
   ]
  },
  {
   "cell_type": "code",
   "execution_count": 3,
   "metadata": {},
   "outputs": [],
   "source": [
    "df1 = pd.read_csv('data/2019.csv')\n",
    "df2 = pd.read_csv('data/2020.csv')\n",
    "df3 = pd.read_csv('data/2021.csv')\n",
    "df4 = pd.read_csv('data/2022.csv', decimal=\",\")\n",
    "\n",
    "df2 = df2[[ \"Ladder score\",\n",
    "            \"Explained by: Log GDP per capita\",\n",
    "            \"Explained by: Social support\",\n",
    "            \"Explained by: Healthy life expectancy\", \n",
    "            \"Explained by: Freedom to make life choices\",\n",
    "            \"Explained by: Generosity\",\n",
    "            \"Explained by: Perceptions of corruption\"]]\n",
    "\n",
    "df3 = df3[[ \"Ladder score\",\n",
    "            \"Explained by: Log GDP per capita\",\n",
    "            \"Explained by: Social support\",\n",
    "            \"Explained by: Healthy life expectancy\", \n",
    "            \"Explained by: Freedom to make life choices\",\n",
    "            \"Explained by: Generosity\",\n",
    "            \"Explained by: Perceptions of corruption\"]]\n",
    "\n",
    "df4 = df4[[ \"Happiness score\",\n",
    "            \"Explained by: GDP per capita\",\n",
    "            \"Explained by: Social support\",\n",
    "            \"Explained by: Healthy life expectancy\", \n",
    "            \"Explained by: Freedom to make life choices\",\n",
    "            \"Explained by: Generosity\",\n",
    "            \"Explained by: Perceptions of corruption\"]].dropna()\n",
    "\n",
    "df1.rename(columns={\"Country or region\": \"Country name\", \"Freedom to make life choices\": \"Freedom\", \"Perceptions of corruption\": \"Corruption\"}, inplace=True)\n",
    "df1.drop([\"Country name\", \"Overall rank\"], inplace=True, axis=1)\n",
    "\n",
    "df2.rename(columns={\"Ladder score\": \"Score\",\n",
    "                    \"Explained by: Log GDP per capita\": \"GDP per capita\",\n",
    "                    \"Explained by: Social support\": \"Social support\",\n",
    "                    \"Explained by: Healthy life expectancy\": \"Healthy life expectancy\",\n",
    "                    \"Explained by: Freedom to make life choices\": \"Freedom\",\n",
    "                    \"Explained by: Generosity\": \"Generosity\",\n",
    "                    \"Explained by: Perceptions of corruption\": \"Corruption\"}, inplace=True)\n",
    "\n",
    "df3.rename(columns={\"Ladder score\": \"Score\",\n",
    "                    \"Explained by: Log GDP per capita\": \"GDP per capita\",\n",
    "                    \"Explained by: Social support\": \"Social support\",\n",
    "                    \"Explained by: Healthy life expectancy\": \"Healthy life expectancy\",\n",
    "                    \"Explained by: Freedom to make life choices\": \"Freedom\",\n",
    "                    \"Explained by: Generosity\": \"Generosity\",\n",
    "                    \"Explained by: Perceptions of corruption\": \"Corruption\"}, inplace=True)\n",
    "\n",
    "df4.rename(columns={\"Happiness score\": \"Score\",\n",
    "                    \"Explained by: GDP per capita\": \"GDP per capita\",\n",
    "                    \"Explained by: Social support\": \"Social support\",\n",
    "                    \"Explained by: Healthy life expectancy\": \"Healthy life expectancy\",\n",
    "                    \"Explained by: Freedom to make life choices\": \"Freedom\",\n",
    "                    \"Explained by: Generosity\": \"Generosity\",\n",
    "                    \"Explained by: Perceptions of corruption\": \"Corruption\"}, inplace=True)\n",
    "\n"
   ]
  },
  {
   "cell_type": "code",
   "execution_count": 4,
   "metadata": {},
   "outputs": [
    {
     "data": {
      "text/html": [
       "<div>\n",
       "<style scoped>\n",
       "    .dataframe tbody tr th:only-of-type {\n",
       "        vertical-align: middle;\n",
       "    }\n",
       "\n",
       "    .dataframe tbody tr th {\n",
       "        vertical-align: top;\n",
       "    }\n",
       "\n",
       "    .dataframe thead th {\n",
       "        text-align: right;\n",
       "    }\n",
       "</style>\n",
       "<table border=\"1\" class=\"dataframe\">\n",
       "  <thead>\n",
       "    <tr style=\"text-align: right;\">\n",
       "      <th></th>\n",
       "      <th>Score</th>\n",
       "      <th>GDP per capita</th>\n",
       "      <th>Social support</th>\n",
       "      <th>Healthy life expectancy</th>\n",
       "      <th>Freedom</th>\n",
       "      <th>Generosity</th>\n",
       "      <th>Corruption</th>\n",
       "    </tr>\n",
       "  </thead>\n",
       "  <tbody>\n",
       "    <tr>\n",
       "      <th>0</th>\n",
       "      <td>7.8420</td>\n",
       "      <td>1.446000</td>\n",
       "      <td>1.106000</td>\n",
       "      <td>0.741000</td>\n",
       "      <td>0.691000</td>\n",
       "      <td>0.124000</td>\n",
       "      <td>0.481000</td>\n",
       "    </tr>\n",
       "    <tr>\n",
       "      <th>1</th>\n",
       "      <td>7.8210</td>\n",
       "      <td>1.892000</td>\n",
       "      <td>1.258000</td>\n",
       "      <td>0.775000</td>\n",
       "      <td>0.736000</td>\n",
       "      <td>0.109000</td>\n",
       "      <td>0.534000</td>\n",
       "    </tr>\n",
       "    <tr>\n",
       "      <th>2</th>\n",
       "      <td>7.8087</td>\n",
       "      <td>1.285190</td>\n",
       "      <td>1.499526</td>\n",
       "      <td>0.961271</td>\n",
       "      <td>0.662317</td>\n",
       "      <td>0.159670</td>\n",
       "      <td>0.477857</td>\n",
       "    </tr>\n",
       "    <tr>\n",
       "      <th>3</th>\n",
       "      <td>7.7690</td>\n",
       "      <td>1.340000</td>\n",
       "      <td>1.587000</td>\n",
       "      <td>0.986000</td>\n",
       "      <td>0.596000</td>\n",
       "      <td>0.153000</td>\n",
       "      <td>0.393000</td>\n",
       "    </tr>\n",
       "    <tr>\n",
       "      <th>4</th>\n",
       "      <td>7.6456</td>\n",
       "      <td>1.326949</td>\n",
       "      <td>1.503449</td>\n",
       "      <td>0.979333</td>\n",
       "      <td>0.665040</td>\n",
       "      <td>0.242793</td>\n",
       "      <td>0.495260</td>\n",
       "    </tr>\n",
       "    <tr>\n",
       "      <th>...</th>\n",
       "      <td>...</td>\n",
       "      <td>...</td>\n",
       "      <td>...</td>\n",
       "      <td>...</td>\n",
       "      <td>...</td>\n",
       "      <td>...</td>\n",
       "      <td>...</td>\n",
       "    </tr>\n",
       "    <tr>\n",
       "      <th>599</th>\n",
       "      <td>2.8530</td>\n",
       "      <td>0.306000</td>\n",
       "      <td>0.575000</td>\n",
       "      <td>0.295000</td>\n",
       "      <td>0.010000</td>\n",
       "      <td>0.202000</td>\n",
       "      <td>0.091000</td>\n",
       "    </tr>\n",
       "    <tr>\n",
       "      <th>600</th>\n",
       "      <td>2.8166</td>\n",
       "      <td>0.289083</td>\n",
       "      <td>0.553279</td>\n",
       "      <td>0.208809</td>\n",
       "      <td>0.065609</td>\n",
       "      <td>0.209935</td>\n",
       "      <td>0.111157</td>\n",
       "    </tr>\n",
       "    <tr>\n",
       "      <th>601</th>\n",
       "      <td>2.5669</td>\n",
       "      <td>0.300706</td>\n",
       "      <td>0.356434</td>\n",
       "      <td>0.266052</td>\n",
       "      <td>0.000000</td>\n",
       "      <td>0.135235</td>\n",
       "      <td>0.001226</td>\n",
       "    </tr>\n",
       "    <tr>\n",
       "      <th>602</th>\n",
       "      <td>2.5230</td>\n",
       "      <td>0.370000</td>\n",
       "      <td>0.000000</td>\n",
       "      <td>0.126000</td>\n",
       "      <td>0.000000</td>\n",
       "      <td>0.122000</td>\n",
       "      <td>0.010000</td>\n",
       "    </tr>\n",
       "    <tr>\n",
       "      <th>603</th>\n",
       "      <td>2.4040</td>\n",
       "      <td>0.758000</td>\n",
       "      <td>0.000000</td>\n",
       "      <td>0.289000</td>\n",
       "      <td>0.000000</td>\n",
       "      <td>0.089000</td>\n",
       "      <td>0.005000</td>\n",
       "    </tr>\n",
       "  </tbody>\n",
       "</table>\n",
       "<p>604 rows × 7 columns</p>\n",
       "</div>"
      ],
      "text/plain": [
       "      Score  GDP per capita  Social support  Healthy life expectancy  \\\n",
       "0    7.8420        1.446000        1.106000                 0.741000   \n",
       "1    7.8210        1.892000        1.258000                 0.775000   \n",
       "2    7.8087        1.285190        1.499526                 0.961271   \n",
       "3    7.7690        1.340000        1.587000                 0.986000   \n",
       "4    7.6456        1.326949        1.503449                 0.979333   \n",
       "..      ...             ...             ...                      ...   \n",
       "599  2.8530        0.306000        0.575000                 0.295000   \n",
       "600  2.8166        0.289083        0.553279                 0.208809   \n",
       "601  2.5669        0.300706        0.356434                 0.266052   \n",
       "602  2.5230        0.370000        0.000000                 0.126000   \n",
       "603  2.4040        0.758000        0.000000                 0.289000   \n",
       "\n",
       "      Freedom  Generosity  Corruption  \n",
       "0    0.691000    0.124000    0.481000  \n",
       "1    0.736000    0.109000    0.534000  \n",
       "2    0.662317    0.159670    0.477857  \n",
       "3    0.596000    0.153000    0.393000  \n",
       "4    0.665040    0.242793    0.495260  \n",
       "..        ...         ...         ...  \n",
       "599  0.010000    0.202000    0.091000  \n",
       "600  0.065609    0.209935    0.111157  \n",
       "601  0.000000    0.135235    0.001226  \n",
       "602  0.000000    0.122000    0.010000  \n",
       "603  0.000000    0.089000    0.005000  \n",
       "\n",
       "[604 rows x 7 columns]"
      ]
     },
     "execution_count": 4,
     "metadata": {},
     "output_type": "execute_result"
    }
   ],
   "source": [
    "df = pd.concat([df1, df2, df3, df4])\n",
    "df = df.sort_values(by=[\"Score\"], ascending=False).reset_index(drop=True)\n",
    "df"
   ]
  },
  {
   "cell_type": "code",
   "execution_count": 5,
   "metadata": {},
   "outputs": [
    {
     "name": "stderr",
     "output_type": "stream",
     "text": [
      "C:\\Users\\vince\\AppData\\Local\\Temp\\ipykernel_1080\\2727163038.py:2: SettingWithCopyWarning: \n",
      "A value is trying to be set on a copy of a slice from a DataFrame.\n",
      "Try using .loc[row_indexer,col_indexer] = value instead\n",
      "\n",
      "See the caveats in the documentation: https://pandas.pydata.org/pandas-docs/stable/user_guide/indexing.html#returning-a-view-versus-a-copy\n",
      "  high['Score'] = \"High\"\n",
      "C:\\Users\\vince\\AppData\\Local\\Temp\\ipykernel_1080\\2727163038.py:4: SettingWithCopyWarning: \n",
      "A value is trying to be set on a copy of a slice from a DataFrame.\n",
      "Try using .loc[row_indexer,col_indexer] = value instead\n",
      "\n",
      "See the caveats in the documentation: https://pandas.pydata.org/pandas-docs/stable/user_guide/indexing.html#returning-a-view-versus-a-copy\n",
      "  med['Score'] = \"Medium\"\n",
      "C:\\Users\\vince\\AppData\\Local\\Temp\\ipykernel_1080\\2727163038.py:6: SettingWithCopyWarning: \n",
      "A value is trying to be set on a copy of a slice from a DataFrame.\n",
      "Try using .loc[row_indexer,col_indexer] = value instead\n",
      "\n",
      "See the caveats in the documentation: https://pandas.pydata.org/pandas-docs/stable/user_guide/indexing.html#returning-a-view-versus-a-copy\n",
      "  low['Score'] = \"Low\"\n"
     ]
    }
   ],
   "source": [
    "high = df.iloc[:201,:]\n",
    "high['Score'] = \"High\"\n",
    "med = df.iloc[201:402,:]\n",
    "med['Score'] = \"Medium\"\n",
    "low = df.iloc[402:604,:]\n",
    "low['Score'] = \"Low\"\n",
    "\n",
    "data = pd.concat([high, med, low])\n"
   ]
  },
  {
   "cell_type": "markdown",
   "metadata": {},
   "source": [
    "### Splitting Train and Test Sets"
   ]
  },
  {
   "cell_type": "code",
   "execution_count": 6,
   "metadata": {},
   "outputs": [],
   "source": [
    "from sklearn.model_selection import train_test_split\n",
    "\n",
    "X = data.drop([\"Score\"], axis=1)\n",
    "y = data[\"Score\"]\n",
    "\n",
    "X_train, X_test, y_train, y_test = train_test_split(X, y, test_size=0.3, random_state=0, stratify=y)  # 70% training and 30% test\n"
   ]
  },
  {
   "cell_type": "markdown",
   "metadata": {},
   "source": [
    "### Model"
   ]
  },
  {
   "cell_type": "code",
   "execution_count": 7,
   "metadata": {},
   "outputs": [],
   "source": [
    "from sklearn.neural_network import MLPClassifier\n",
    "from sklearn.model_selection import RepeatedKFold\n",
    "from sklearn.model_selection import cross_val_score\n",
    "\n",
    "cv = RepeatedKFold(n_splits=10, n_repeats=5, random_state=0)\n",
    "clf = MLPClassifier(hidden_layer_sizes = (250,250),max_iter=1000, random_state=0, verbose=False).fit(X_train, y_train)\n",
    "\n",
    "scores= cross_val_score(clf, X, y, scoring=\"accuracy\", cv=cv, n_jobs=1)"
   ]
  },
  {
   "cell_type": "code",
   "execution_count": 8,
   "metadata": {},
   "outputs": [
    {
     "name": "stdout",
     "output_type": "stream",
     "text": [
      "NN accuracy mean:  0.7312896174863387\n"
     ]
    }
   ],
   "source": [
    "print(\"NN accuracy mean: \", sum(scores)/len(scores))"
   ]
  },
  {
   "cell_type": "code",
   "execution_count": 15,
   "metadata": {},
   "outputs": [
    {
     "name": "stdout",
     "output_type": "stream",
     "text": [
      "RF score:  0.966824644549763\n"
     ]
    }
   ],
   "source": [
    "from sklearn.ensemble import RandomForestClassifier\n",
    "\n",
    "forest = RandomForestClassifier(n_estimators = 5, random_state = 0).fit(X_train, y_train.values.ravel())\n",
    "print(\"RF score: \", forest.score(X_train, y_train))"
   ]
  },
  {
   "cell_type": "code",
   "execution_count": 16,
   "metadata": {},
   "outputs": [
    {
     "data": {
      "image/png": "[encoded data removed]",
      "text/plain": [
       "<Figure size 648x432 with 1 Axes>"
      ]
     },
     "metadata": {
      "needs_background": "light"
     },
     "output_type": "display_data"
    }
   ],
   "source": [
    "importances  = forest.feature_importances_\n",
    "std = np.std([tree.feature_importances_ for tree in forest.estimators_], axis = 0)\n",
    "feature_names = list(X.columns)\n",
    "forest_importances = pd.Series(importances, index = feature_names).sort_values(ascending = False)\n",
    "\n",
    "fig, ax = plt.subplots(figsize = (9,6))\n",
    "ax.set_ylabel(\"Importance\")\n",
    "ax.set_xlabel(\"Features\")\n",
    "forest_importances.plot.bar(yerr=std, ax=ax)\n",
    "ax.set_title(\"Feature Importances Using Random Forest(MDI)\")\n",
    "fig.tight_layout()"
   ]
  },
  {
   "cell_type": "code",
   "execution_count": null,
   "metadata": {},
   "outputs": [],
   "source": []
  }
 ],
 "metadata": {
  "kernelspec": {
   "display_name": "Python 3.9.12 ('base')",
   "language": "python",
   "name": "python3"
  },
  "language_info": {
   "codemirror_mode": {
    "name": "ipython",
    "version": 3
   },
   "file_extension": ".py",
   "mimetype": "text/x-python",
   "name": "python",
   "nbconvert_exporter": "python",
   "pygments_lexer": "ipython3",
   "version": "3.9.12"
  },
  "orig_nbformat": 4,
  "vscode": {
   "interpreter": {
    "hash": "0aeb67f7102a24bb7e39a32c1fa68eda830c866cb68bf81fdf483dc488b37100"
   }
  }
 },
 "nbformat": 4,
 "nbformat_minor": 2
}
