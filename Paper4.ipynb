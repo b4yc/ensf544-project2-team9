{
 "cells": [
  {
   "cell_type": "markdown",
   "metadata": {},
   "source": [
    "### Paper 4 Machine Learning (Hierarchial Clustering)"
   ]
  },
  {
   "cell_type": "markdown",
   "metadata": {},
   "source": [
    "Import libraries"
   ]
  },
  {
   "cell_type": "code",
   "execution_count": 3,
   "metadata": {},
   "outputs": [],
   "source": [
    "import numpy as np\n",
    "import pandas as pd\n",
    "import matplotlib.pyplot as plt\n",
    "%matplotlib inline\n",
    "from sklearn.model_selection import train_test_split\n",
    "from sklearn.ensemble import RandomForestRegressor\n",
    "from sklearn.metrics import r2_score\n",
    "from sklearn import preprocessing\n",
    "from sklearn.metrics import mean_squared_error"
   ]
  },
  {
   "cell_type": "markdown",
   "metadata": {},
   "source": [
    "Load the Data and select only the relevent features from the data"
   ]
  },
  {
   "cell_type": "code",
   "execution_count": 4,
   "metadata": {},
   "outputs": [
    {
     "name": "stdout",
     "output_type": "stream",
     "text": [
      "     Economy (GDP per Capita)   Family  Health (Life Expectancy)  Freedom  \\\n",
      "0                     1.39651  1.34951                   0.94143  0.66557   \n",
      "1                     1.30232  1.40223                   0.94784  0.62877   \n",
      "2                     1.32548  1.36058                   0.87464  0.64938   \n",
      "3                     1.45900  1.33095                   0.88521  0.66973   \n",
      "4                     1.32629  1.32261                   0.90563  0.63297   \n",
      "..                        ...      ...                       ...      ...   \n",
      "153                   0.22208  0.77370                   0.42864  0.59201   \n",
      "154                   0.28665  0.35386                   0.31910  0.48450   \n",
      "155                   0.66320  0.47489                   0.72193  0.15684   \n",
      "156                   0.01530  0.41587                   0.22396  0.11850   \n",
      "157                   0.20868  0.13995                   0.28443  0.36453   \n",
      "\n",
      "     Trust (Government Corruption)  Generosity  Dystopia Residual  \n",
      "0                          0.41978     0.29678            2.51738  \n",
      "1                          0.14145     0.43630            2.70201  \n",
      "2                          0.48357     0.34139            2.49204  \n",
      "3                          0.36503     0.34699            2.46531  \n",
      "4                          0.32957     0.45811            2.45176  \n",
      "..                             ...         ...                ...  \n",
      "153                        0.55191     0.22628            0.67042  \n",
      "154                        0.08010     0.18260            1.63328  \n",
      "155                        0.18906     0.47179            0.32858  \n",
      "156                        0.10062     0.19727            1.83302  \n",
      "157                        0.10731     0.16681            1.56726  \n",
      "\n",
      "[158 rows x 7 columns]\n"
     ]
    }
   ],
   "source": [
    "\n",
    "data = pd.read_csv(\"data/2015.csv\")\n",
    "features = data.drop([\"Country\", \"Region\", \"Happiness Rank\", \"Happiness Score\", \"Standard Error\"], axis=1)\n",
    "labels = data[\"Happiness Score\"]\n",
    "print(features)"
   ]
  },
  {
   "cell_type": "markdown",
   "metadata": {},
   "source": [
    "Determine the best number of estimators and criterion type for the default Random Forest Regressor"
   ]
  },
  {
   "cell_type": "code",
   "execution_count": 7,
   "metadata": {},
   "outputs": [
    {
     "name": "stdout",
     "output_type": "stream",
     "text": [
      "For estimators=100, criterion=squared_error, Score=0.937350, RMSE=0.252830\n",
      "For estimators=100, criterion=absolute_error, Score=0.939096, RMSE=0.249281\n",
      "For estimators=100, criterion=poisson, Score=0.937821, RMSE=0.251876\n",
      "For estimators=200, criterion=squared_error, Score=0.939333, RMSE=0.248795\n",
      "For estimators=200, criterion=absolute_error, Score=0.939003, RMSE=0.249471\n",
      "For estimators=200, criterion=poisson, Score=0.941822, RMSE=0.243638\n",
      "For estimators=300, criterion=squared_error, Score=0.940608, RMSE=0.246167\n",
      "For estimators=300, criterion=absolute_error, Score=0.942210, RMSE=0.242825\n",
      "For estimators=300, criterion=poisson, Score=0.942786, RMSE=0.241612\n",
      "For estimators=400, criterion=squared_error, Score=0.942577, RMSE=0.242053\n",
      "For estimators=400, criterion=absolute_error, Score=0.944420, RMSE=0.238136\n",
      "For estimators=400, criterion=poisson, Score=0.944520, RMSE=0.237923\n",
      "For estimators=500, criterion=squared_error, Score=0.942171, RMSE=0.242907\n",
      "For estimators=500, criterion=absolute_error, Score=0.944784, RMSE=0.237356\n",
      "For estimators=500, criterion=poisson, Score=0.945529, RMSE=0.235749\n",
      "For estimators=600, criterion=squared_error, Score=0.942652, RMSE=0.241895\n",
      "For estimators=600, criterion=absolute_error, Score=0.945713, RMSE=0.235351\n",
      "For estimators=600, criterion=poisson, Score=0.945257, RMSE=0.236337\n",
      "For estimators=700, criterion=squared_error, Score=0.942116, RMSE=0.243023\n",
      "For estimators=700, criterion=absolute_error, Score=0.945339, RMSE=0.236160\n",
      "For estimators=700, criterion=poisson, Score=0.944223, RMSE=0.238558\n",
      "For estimators=800, criterion=squared_error, Score=0.941106, RMSE=0.245134\n",
      "For estimators=800, criterion=absolute_error, Score=0.944813, RMSE=0.237294\n",
      "For estimators=800, criterion=poisson, Score=0.943452, RMSE=0.240202\n",
      "For estimators=900, criterion=squared_error, Score=0.941125, RMSE=0.245095\n",
      "For estimators=900, criterion=absolute_error, Score=0.944696, RMSE=0.237545\n",
      "For estimators=900, criterion=poisson, Score=0.943228, RMSE=0.240677\n",
      "The number of estimators and best criterion for the highest score of 0.945713 is : 600, absolute_error\n",
      "For RMSE (0.235351) optimal estimators is 600, criterion is absolute_error\n"
     ]
    }
   ],
   "source": [
    "\n",
    "X_train, X_test, y_train, y_test = train_test_split(features, labels, random_state=0)\n",
    "highest_score = 0\n",
    "highest_criterion = \"\"\n",
    "highest_estimators = 0\n",
    "lowest_rmse = 1\n",
    "rmse_criterion = \"\"\n",
    "rmse_estimators = 0\n",
    "for estimators in (100, 200, 300, 400, 500, 600, 700, 800, 900):\n",
    "    for crit in (\"squared_error\" , \"absolute_error\", \"poisson\"):\n",
    "        model = RandomForestRegressor(n_estimators=estimators, criterion=crit, random_state=0)\n",
    "        model.fit(X_train, y_train)\n",
    "        pred = model.predict(X_test)\n",
    "        score = r2_score(y_test, pred)\n",
    "        rmse = mean_squared_error(y_test, pred, squared=False)\n",
    "        if score > highest_score:\n",
    "            highest_score = score\n",
    "            highest_criterion = crit\n",
    "            highest_estimators = estimators\n",
    "        if rmse < lowest_rmse:\n",
    "            lowest_rmse = rmse\n",
    "            rmse_criterion = crit\n",
    "            rmse_estimators = estimators\n",
    "        print(\"For estimators=%d, criterion=%s, Score=%f, RMSE=%f\" % (estimators, crit, score, rmse))\n",
    "\n",
    "print(\"The number of estimators and best criterion for the highest score of %f is : %d, %s\" % (highest_score, highest_estimators, highest_criterion))\n",
    "print(\"For RMSE (%f) optimal estimators is %d, criterion is %s\" % (lowest_rmse, rmse_estimators, rmse_criterion))"
   ]
  }
 ],
 "metadata": {
  "kernelspec": {
   "display_name": "Python 3.10.8 64-bit (microsoft store)",
   "language": "python",
   "name": "python3"
  },
  "language_info": {
   "codemirror_mode": {
    "name": "ipython",
    "version": 3
   },
   "file_extension": ".py",
   "mimetype": "text/x-python",
   "name": "python",
   "nbconvert_exporter": "python",
   "pygments_lexer": "ipython3",
   "version": "3.10.8"
  },
  "orig_nbformat": 4,
  "vscode": {
   "interpreter": {
    "hash": "2f6ef586a2db39547a9b17a117803a05d9690de02a6b54ada7fbaa82a07f6880"
   }
  }
 },
 "nbformat": 4,
 "nbformat_minor": 2
}
